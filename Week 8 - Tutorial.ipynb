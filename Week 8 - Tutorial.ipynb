{
  "nbformat": 4,
  "nbformat_minor": 0,
  "metadata": {
    "colab": {
      "provenance": []
    },
    "kernelspec": {
      "name": "python3",
      "display_name": "Python 3"
    },
    "language_info": {
      "name": "python"
    }
  },
  "cells": [
    {
      "cell_type": "code",
      "execution_count": null,
      "metadata": {
        "colab": {
          "base_uri": "https://localhost:8080/"
        },
        "id": "TLy2XHqMMrGo",
        "outputId": "eba13a7a-07f8-426f-be06-74cfb835162d"
      },
      "outputs": [
        {
          "output_type": "stream",
          "name": "stdout",
          "text": [
            "the type assigned to my name is  <class 'str'>\n",
            "my initials are P W\n"
          ]
        }
      ],
      "source": [
        "#Q1\n",
        "my_name = \"Philip Worrall\"\n",
        "print(\"the type assigned to my name is \", type(my_name))\n",
        "\n",
        "print(\"my initials are\", my_name.split()[0][0], my_name.split()[1][0])"
      ]
    },
    {
      "cell_type": "code",
      "source": [
        "#Q2\n",
        "square = 11.0 * 10.0\n",
        "path = 3.0 * 10\n",
        "pond = 3.14 * 0.75 ** 2.0\n",
        "area = square - path - pond\n",
        "print(\"the grassed area is \", area)\n",
        "\n",
        "cost = 0.75 * area\n",
        "print(\"the total cost is £\", cost)\n",
        "\n",
        "if cost < 100:\n",
        "  cost = cost + 10.0\n",
        "\n",
        "print(\"the total cost (rounded up) is £\", round(cost,2))\n"
      ],
      "metadata": {
        "colab": {
          "base_uri": "https://localhost:8080/"
        },
        "id": "vYMkHK45m6OS",
        "outputId": "657c98f4-f30f-45cd-d03d-54c1cb385b9d"
      },
      "execution_count": null,
      "outputs": [
        {
          "output_type": "stream",
          "name": "stdout",
          "text": [
            "the grassed area is  78.23375\n",
            "the total cost is £ 58.675312500000004\n",
            "the total cost (rounded up) is £ 68.68\n"
          ]
        }
      ]
    },
    {
      "cell_type": "code",
      "source": [
        "#Q3\n",
        "tweets = []\n",
        "tweets.append(\"I love #coffee. Buy it #organic, grind your own beans, use unbleached filters. Coffee drinker or not?\")\n",
        "tweets.append(\"Looking for a healthy, simple, and natural alternative for #coffee creamer? Compare to Coffee Mate\")\n",
        "tweets.append(\"#Coffee & sun for a leisurely start today\")\n",
        "tweets.append(\"Drink coffee: Do stupid things faster and with more energy\")\n",
        "tweets.append(\"#Coffee Anyone? Our Coffee Corner knows just how to start your day!\")\n",
        "\n",
        "for tweet in tweets:\n",
        "  n_occur = 0\n",
        "  for word in tweet.split():\n",
        "    if word.lower() in [\"coffee\", \"#coffee\"]:\n",
        "      n_occur = n_occur + 1\n",
        "  print(tweet, len(tweet), n_occur)\n"
      ],
      "metadata": {
        "colab": {
          "base_uri": "https://localhost:8080/"
        },
        "id": "ANWKmU66MKK_",
        "outputId": "4fb67d95-4de2-4354-e678-d32adf20fc47"
      },
      "execution_count": null,
      "outputs": [
        {
          "output_type": "stream",
          "name": "stdout",
          "text": [
            "I love #coffee. Buy it #organic, grind your own beans, use unbleached filters. Coffee drinker or not? 101 1\n",
            "Looking for a healthy, simple, and natural alternative for #coffee creamer? Compare to Coffee Mate 98 2\n",
            "#Coffee & sun for a leisurely start today 41 1\n",
            "Drink coffee: Do stupid things faster and with more energy 58 0\n",
            "#Coffee Anyone? Our Coffee Corner knows just how to start your day! 67 2\n"
          ]
        }
      ]
    },
    {
      "cell_type": "code",
      "source": [
        "#Q4\n",
        "tweets = {}\n",
        "\n",
        "tweets[\"user1\"] = [\"tweet number 1\", \"tweet number 2\"]\n",
        "tweets[\"user2\"] = [\"tweet number 3\"]\n",
        "tweets[\"user3\"] = [\"tweet number 4\", \"tweet number 5\", \"tweet number 6\"]\n",
        "\n",
        "for k in tweets.keys():\n",
        "  words = 0\n",
        "  for tweet in tweets[k]:\n",
        "    words = words + len(tweet.split())\n",
        "  print(\"user:\",k, \", # tweets\", len(tweets[k]), \", # words\", words)\n",
        ""
      ],
      "metadata": {
        "colab": {
          "base_uri": "https://localhost:8080/"
        },
        "id": "e9rxbK8GNLKH",
        "outputId": "a55a6fb9-b231-4912-e182-dc9a6cbf7c75"
      },
      "execution_count": null,
      "outputs": [
        {
          "output_type": "stream",
          "name": "stdout",
          "text": [
            "user: user1 , # tweets 2 , # words 6\n",
            "user: user2 , # tweets 1 , # words 3\n",
            "user: user3 , # tweets 3 , # words 9\n"
          ]
        }
      ]
    }
  ]
}