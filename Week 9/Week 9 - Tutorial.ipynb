{
 "cells": [
  {
   "cell_type": "code",
   "execution_count": 1,
   "id": "7cf991c2",
   "metadata": {},
   "outputs": [
    {
     "name": "stdout",
     "output_type": "stream",
     "text": [
      "Windy And Overcast Weather\n"
     ]
    }
   ],
   "source": [
    "print(\"windy and overcast weather\".title())"
   ]
  },
  {
   "cell_type": "code",
   "execution_count": 2,
   "id": "93a6b528",
   "metadata": {},
   "outputs": [
    {
     "name": "stdout",
     "output_type": "stream",
     "text": [
      "8\n"
     ]
    }
   ],
   "source": [
    "x = 2\n",
    "y = 3\n",
    "print(x**y)"
   ]
  },
  {
   "cell_type": "code",
   "execution_count": 3,
   "id": "c2d32749",
   "metadata": {},
   "outputs": [
    {
     "name": "stdout",
     "output_type": "stream",
     "text": [
      "20\n"
     ]
    }
   ],
   "source": [
    "i = 10\n",
    "if i > 5:\n",
    "    print(i*2)\n",
    "else:\n",
    "    print(i*3)"
   ]
  },
  {
   "cell_type": "code",
   "execution_count": 4,
   "id": "f6d483ce",
   "metadata": {},
   "outputs": [
    {
     "name": "stdout",
     "output_type": "stream",
     "text": [
      "2\n",
      "4\n",
      "6\n",
      "8\n",
      "10\n"
     ]
    }
   ],
   "source": [
    "k = [1,2,3,4,5]\n",
    "for i in k:\n",
    "    print(i + i)"
   ]
  },
  {
   "cell_type": "code",
   "execution_count": 5,
   "id": "ca263348",
   "metadata": {},
   "outputs": [
    {
     "name": "stdout",
     "output_type": "stream",
     "text": [
      "d\n"
     ]
    }
   ],
   "source": [
    "tweet = \"Today is a new day!\"\n",
    "print(tweet[-4])"
   ]
  },
  {
   "cell_type": "code",
   "execution_count": 6,
   "id": "3c780058",
   "metadata": {},
   "outputs": [
    {
     "name": "stdout",
     "output_type": "stream",
     "text": [
      "new\n"
     ]
    }
   ],
   "source": [
    "tweet = \"Today is a new day!\"\n",
    "print(tweet.split()[3])"
   ]
  },
  {
   "cell_type": "code",
   "execution_count": 7,
   "id": "798f34dd",
   "metadata": {},
   "outputs": [
    {
     "data": {
      "text/plain": [
       "150"
      ]
     },
     "execution_count": 7,
     "metadata": {},
     "output_type": "execute_result"
    }
   ],
   "source": [
    "tweet = \"I’ve just watched the film Gravity... What's up with that? At one point, Scarlett Johansson was in the running to star in this film, aswas Naomi Watts\"\n",
    "len(tweet)"
   ]
  },
  {
   "cell_type": "code",
   "execution_count": 9,
   "id": "aa05b69f",
   "metadata": {},
   "outputs": [
    {
     "name": "stdout",
     "output_type": "stream",
     "text": [
      "['the']\n"
     ]
    }
   ],
   "source": [
    "def stopwords(text):\n",
    "    found = []\n",
    "    for word in text.split():\n",
    "        if word in [\"the\", \"from\",\"to\",\"at\",\"they\", \"them\"]:\n",
    "            if word not in found:\n",
    "                found.append(word)\n",
    "    return found\n",
    "print(stopwords(\"Make a donation, help save lives around the world\"))\n",
    "            \n",
    "            \n",
    "            \n",
    "            "
   ]
  },
  {
   "cell_type": "code",
   "execution_count": 11,
   "id": "1adfac63",
   "metadata": {},
   "outputs": [],
   "source": [
    "class Tweet:\n",
    "    def __init__(self, author, text, post_date):\n",
    "        self._author = author\n",
    "        self._text = text\n",
    "        self._post_date = post_date\n",
    "user_tweet = Tweet(\"JohnDoe\", \"Hello, world!\", \"2023-07-05\")"
   ]
  },
  {
   "cell_type": "code",
   "execution_count": 17,
   "id": "72f17889",
   "metadata": {},
   "outputs": [
    {
     "data": {
      "text/plain": [
       "'smith'"
      ]
     },
     "execution_count": 17,
     "metadata": {},
     "output_type": "execute_result"
    }
   ],
   "source": [
    "user_info = [{\"name\": \"macy\", \"surname\": \"gray\"},{\"name\": \"john\",\"surname\": \"smith\"}]\n",
    "all_users = {\"users\": user_info, \"posts\": []}\n",
    "\n",
    "all_users[\"users\"][1][\"surname\"]\n",
    "\n"
   ]
  },
  {
   "cell_type": "code",
   "execution_count": null,
   "id": "e030fe0d",
   "metadata": {},
   "outputs": [],
   "source": []
  },
  {
   "cell_type": "code",
   "execution_count": 18,
   "id": "c38df405",
   "metadata": {},
   "outputs": [
    {
     "name": "stdout",
     "output_type": "stream",
     "text": [
      "Collecting praw\n",
      "  Downloading praw-7.7.0-py3-none-any.whl (189 kB)\n",
      "\u001b[2K     \u001b[90m━━━━━━━━━━━━━━━━━━━━━━━━━━━━━━━━━━━━━━\u001b[0m \u001b[32m189.4/189.4 kB\u001b[0m \u001b[31m10.5 MB/s\u001b[0m eta \u001b[36m0:00:00\u001b[0m\n",
      "\u001b[?25hCollecting prawcore<3,>=2.1\n",
      "  Downloading prawcore-2.3.0-py3-none-any.whl (16 kB)\n",
      "Collecting update-checker>=0.18\n",
      "  Downloading update_checker-0.18.0-py3-none-any.whl (7.0 kB)\n",
      "Requirement already satisfied: websocket-client>=0.54.0 in /Users/hasanenesguray/opt/anaconda3/lib/python3.9/site-packages (from praw) (0.58.0)\n",
      "Requirement already satisfied: requests<3.0,>=2.6.0 in /Users/hasanenesguray/opt/anaconda3/lib/python3.9/site-packages (from prawcore<3,>=2.1->praw) (2.28.1)\n",
      "Requirement already satisfied: six in /Users/hasanenesguray/opt/anaconda3/lib/python3.9/site-packages (from websocket-client>=0.54.0->praw) (1.16.0)\n",
      "Requirement already satisfied: charset-normalizer<3,>=2 in /Users/hasanenesguray/opt/anaconda3/lib/python3.9/site-packages (from requests<3.0,>=2.6.0->prawcore<3,>=2.1->praw) (2.0.12)\n",
      "Requirement already satisfied: certifi>=2017.4.17 in /Users/hasanenesguray/opt/anaconda3/lib/python3.9/site-packages (from requests<3.0,>=2.6.0->prawcore<3,>=2.1->praw) (2022.12.7)\n",
      "Requirement already satisfied: urllib3<1.27,>=1.21.1 in /Users/hasanenesguray/opt/anaconda3/lib/python3.9/site-packages (from requests<3.0,>=2.6.0->prawcore<3,>=2.1->praw) (1.26.14)\n",
      "Requirement already satisfied: idna<4,>=2.5 in /Users/hasanenesguray/opt/anaconda3/lib/python3.9/site-packages (from requests<3.0,>=2.6.0->prawcore<3,>=2.1->praw) (3.4)\n",
      "Installing collected packages: update-checker, prawcore, praw\n",
      "Successfully installed praw-7.7.0 prawcore-2.3.0 update-checker-0.18.0\n",
      "Note: you may need to restart the kernel to use updated packages.\n"
     ]
    }
   ],
   "source": [
    "pip install praw"
   ]
  },
  {
   "cell_type": "code",
   "execution_count": 19,
   "id": "d5eba98c",
   "metadata": {},
   "outputs": [],
   "source": [
    "import praw\n",
    "import pprint\n",
    "\n",
    "SECRET = \"fDTjgQd2sS6gmVrqm7IcPPhp05NHXg\"\n",
    "APP_ID = \"KGv2MMUcdlqidiWTIP4YPA\"\n",
    "\n",
    "reddit = praw.Reddit(\n",
    "        client_id = APP_ID,\n",
    "        client_secret = SECRET,\n",
    "        user_agent = \"Comment Extraction\")\n"
   ]
  },
  {
   "cell_type": "code",
   "execution_count": 20,
   "id": "1acf2212",
   "metadata": {},
   "outputs": [],
   "source": [
    "url = \"https://www.reddit.com/r/doordash_drivers/comments/14qy2hp/whyre_they_like_this/\"\n",
    "submission = reddit.submission(url=url)"
   ]
  },
  {
   "cell_type": "code",
   "execution_count": 23,
   "id": "ee222db5",
   "metadata": {},
   "outputs": [
    {
     "name": "stdout",
     "output_type": "stream",
     "text": [
      "<class 'praw.models.reddit.comment.Comment'>\n",
      "<class 'praw.models.reddit.comment.Comment'>\n",
      "<class 'praw.models.reddit.comment.Comment'>\n",
      "<class 'praw.models.reddit.comment.Comment'>\n",
      "<class 'praw.models.reddit.comment.Comment'>\n",
      "<class 'praw.models.reddit.comment.Comment'>\n",
      "<class 'praw.models.reddit.comment.Comment'>\n",
      "<class 'praw.models.reddit.comment.Comment'>\n",
      "<class 'praw.models.reddit.comment.Comment'>\n",
      "<class 'praw.models.reddit.comment.Comment'>\n",
      "<class 'praw.models.reddit.comment.Comment'>\n",
      "<class 'praw.models.reddit.comment.Comment'>\n",
      "<class 'praw.models.reddit.comment.Comment'>\n",
      "<class 'praw.models.reddit.comment.Comment'>\n",
      "<class 'praw.models.reddit.comment.Comment'>\n",
      "<class 'praw.models.reddit.comment.Comment'>\n",
      "<class 'praw.models.reddit.comment.Comment'>\n",
      "<class 'praw.models.reddit.comment.Comment'>\n",
      "<class 'praw.models.reddit.comment.Comment'>\n",
      "<class 'praw.models.reddit.comment.Comment'>\n",
      "<class 'praw.models.reddit.comment.Comment'>\n",
      "<class 'praw.models.reddit.comment.Comment'>\n",
      "<class 'praw.models.reddit.comment.Comment'>\n",
      "<class 'praw.models.reddit.comment.Comment'>\n",
      "<class 'praw.models.reddit.comment.Comment'>\n"
     ]
    }
   ],
   "source": [
    "for top_level_comment in submission.comments:\n",
    "    print(type(top_level_comment))"
   ]
  },
  {
   "cell_type": "code",
   "execution_count": 24,
   "id": "8db76f4c",
   "metadata": {},
   "outputs": [
    {
     "name": "stdout",
     "output_type": "stream",
     "text": [
      "<class 'praw.models.reddit.comment.Comment'>\n",
      "<class 'praw.models.reddit.comment.Comment'>\n",
      "<class 'praw.models.reddit.comment.Comment'>\n",
      "<class 'praw.models.reddit.comment.Comment'>\n",
      "<class 'praw.models.reddit.comment.Comment'>\n",
      "<class 'praw.models.reddit.comment.Comment'>\n",
      "<class 'praw.models.reddit.comment.Comment'>\n",
      "<class 'praw.models.reddit.comment.Comment'>\n",
      "<class 'praw.models.reddit.comment.Comment'>\n",
      "<class 'praw.models.reddit.comment.Comment'>\n",
      "<class 'praw.models.reddit.comment.Comment'>\n",
      "<class 'praw.models.reddit.comment.Comment'>\n",
      "<class 'praw.models.reddit.comment.Comment'>\n",
      "<class 'praw.models.reddit.comment.Comment'>\n",
      "<class 'praw.models.reddit.comment.Comment'>\n"
     ]
    }
   ],
   "source": [
    "for top_level_comment in submission.comments:\n",
    "    for second_level_comment in top_level_comment.replies:\n",
    "        for third_level_comment in second_level_comment.replies:\n",
    "            print(type(third_level_comment))"
   ]
  },
  {
   "cell_type": "code",
   "execution_count": 25,
   "id": "27bce240",
   "metadata": {},
   "outputs": [
    {
     "name": "stdout",
     "output_type": "stream",
     "text": [
      "<class 'praw.models.reddit.comment.Comment'>\n",
      "<class 'praw.models.reddit.comment.Comment'>\n",
      "<class 'praw.models.reddit.comment.Comment'>\n",
      "<class 'praw.models.reddit.comment.Comment'>\n",
      "<class 'praw.models.reddit.comment.Comment'>\n",
      "<class 'praw.models.reddit.comment.Comment'>\n",
      "<class 'praw.models.reddit.comment.Comment'>\n",
      "<class 'praw.models.reddit.comment.Comment'>\n",
      "<class 'praw.models.reddit.comment.Comment'>\n",
      "<class 'praw.models.reddit.comment.Comment'>\n"
     ]
    }
   ],
   "source": [
    "amount = 10\n",
    "for comment in submission.comments.list():\n",
    "    print(type(comment))\n",
    "    amount -= 1\n",
    "    if amount == 0:\n",
    "        break"
   ]
  },
  {
   "cell_type": "code",
   "execution_count": 27,
   "id": "7b2d2f54",
   "metadata": {},
   "outputs": [
    {
     "name": "stdout",
     "output_type": "stream",
     "text": [
      "<class 'praw.models.reddit.redditor.Redditor'>\n"
     ]
    }
   ],
   "source": [
    "for comment in submission.comments.list():\n",
    "    print(type(comment.author))\n",
    "    break"
   ]
  },
  {
   "cell_type": "code",
   "execution_count": 28,
   "id": "12df4f9e",
   "metadata": {},
   "outputs": [
    {
     "name": "stdout",
     "output_type": "stream",
     "text": [
      "0 jaymoosebna\n",
      "1 RainFallsWhenItMay\n",
      "2 AdornedByCherice\n",
      "3 Ok_Knowledge_5997\n",
      "4 Xentherical\n",
      "5 ILive2Drum\n",
      "6 Nikovash\n",
      "7 Plant_Based_Zak\n",
      "8 Truorganics\n",
      "9 Famous_Actuary_7851\n",
      "10 jarofgoodness\n"
     ]
    }
   ],
   "source": [
    "for n, comment in enumerate(submission.comments.list()):\n",
    "    print(n, comment.author.name)\n",
    "    if n == 10:\n",
    "        break"
   ]
  },
  {
   "cell_type": "code",
   "execution_count": null,
   "id": "abc9e840",
   "metadata": {},
   "outputs": [],
   "source": []
  },
  {
   "cell_type": "code",
   "execution_count": 29,
   "id": "dd863d13",
   "metadata": {},
   "outputs": [],
   "source": [
    "import pandas as pd"
   ]
  },
  {
   "cell_type": "code",
   "execution_count": 30,
   "id": "84b5ccae",
   "metadata": {},
   "outputs": [
    {
     "name": "stdout",
     "output_type": "stream",
     "text": [
      "Empty DataFrame\n",
      "Columns: []\n",
      "Index: []\n"
     ]
    }
   ],
   "source": [
    "df = pd.DataFrame()\n",
    "print(df)"
   ]
  },
  {
   "cell_type": "code",
   "execution_count": 32,
   "id": "8a9c1882",
   "metadata": {},
   "outputs": [
    {
     "name": "stdout",
     "output_type": "stream",
     "text": [
      "   name  score\n",
      "0  Mike     76\n",
      "1  John     52\n",
      "2  Sara     91\n"
     ]
    }
   ],
   "source": [
    "row1 = {\"name\": \"Mike\", \"score\": 76}\n",
    "row2 = {\"name\": \"John\", \"score\": 52}\n",
    "row3 = {\"name\": \"Sara\", \"score\": 91}\n",
    "\n",
    "rows = [row1, row2, row3]\n",
    "\n",
    "df = pd.DataFrame(rows)\n",
    "print(df)"
   ]
  },
  {
   "cell_type": "code",
   "execution_count": 33,
   "id": "49865a7e",
   "metadata": {},
   "outputs": [
    {
     "data": {
      "text/plain": [
       "0    Mike\n",
       "1    John\n",
       "2    Sara\n",
       "Name: name, dtype: object"
      ]
     },
     "execution_count": 33,
     "metadata": {},
     "output_type": "execute_result"
    }
   ],
   "source": [
    "df[\"name\"]"
   ]
  },
  {
   "cell_type": "code",
   "execution_count": 34,
   "id": "96fae932",
   "metadata": {},
   "outputs": [
    {
     "data": {
      "text/plain": [
       "count     3.000000\n",
       "mean     73.000000\n",
       "std      19.672316\n",
       "min      52.000000\n",
       "25%      64.000000\n",
       "50%      76.000000\n",
       "75%      83.500000\n",
       "max      91.000000\n",
       "Name: score, dtype: float64"
      ]
     },
     "execution_count": 34,
     "metadata": {},
     "output_type": "execute_result"
    }
   ],
   "source": [
    "df[\"score\"].describe()"
   ]
  },
  {
   "cell_type": "code",
   "execution_count": 35,
   "id": "b2282dba",
   "metadata": {},
   "outputs": [
    {
     "data": {
      "text/html": [
       "<div>\n",
       "<style scoped>\n",
       "    .dataframe tbody tr th:only-of-type {\n",
       "        vertical-align: middle;\n",
       "    }\n",
       "\n",
       "    .dataframe tbody tr th {\n",
       "        vertical-align: top;\n",
       "    }\n",
       "\n",
       "    .dataframe thead th {\n",
       "        text-align: right;\n",
       "    }\n",
       "</style>\n",
       "<table border=\"1\" class=\"dataframe\">\n",
       "  <thead>\n",
       "    <tr style=\"text-align: right;\">\n",
       "      <th></th>\n",
       "      <th>name</th>\n",
       "      <th>score</th>\n",
       "      <th>year_of_study</th>\n",
       "    </tr>\n",
       "  </thead>\n",
       "  <tbody>\n",
       "    <tr>\n",
       "      <th>0</th>\n",
       "      <td>Mike</td>\n",
       "      <td>76</td>\n",
       "      <td>2013</td>\n",
       "    </tr>\n",
       "    <tr>\n",
       "      <th>1</th>\n",
       "      <td>John</td>\n",
       "      <td>52</td>\n",
       "      <td>2013</td>\n",
       "    </tr>\n",
       "    <tr>\n",
       "      <th>2</th>\n",
       "      <td>Sara</td>\n",
       "      <td>91</td>\n",
       "      <td>2013</td>\n",
       "    </tr>\n",
       "  </tbody>\n",
       "</table>\n",
       "</div>"
      ],
      "text/plain": [
       "   name  score  year_of_study\n",
       "0  Mike     76           2013\n",
       "1  John     52           2013\n",
       "2  Sara     91           2013"
      ]
     },
     "execution_count": 35,
     "metadata": {},
     "output_type": "execute_result"
    }
   ],
   "source": [
    "df[\"year_of_study\"] = 2013\n",
    "df"
   ]
  },
  {
   "cell_type": "code",
   "execution_count": 36,
   "id": "d899a2a0",
   "metadata": {},
   "outputs": [
    {
     "data": {
      "text/html": [
       "<div>\n",
       "<style scoped>\n",
       "    .dataframe tbody tr th:only-of-type {\n",
       "        vertical-align: middle;\n",
       "    }\n",
       "\n",
       "    .dataframe tbody tr th {\n",
       "        vertical-align: top;\n",
       "    }\n",
       "\n",
       "    .dataframe thead th {\n",
       "        text-align: right;\n",
       "    }\n",
       "</style>\n",
       "<table border=\"1\" class=\"dataframe\">\n",
       "  <thead>\n",
       "    <tr style=\"text-align: right;\">\n",
       "      <th></th>\n",
       "      <th>name</th>\n",
       "      <th>score</th>\n",
       "      <th>year_of_study</th>\n",
       "      <th>grade</th>\n",
       "    </tr>\n",
       "  </thead>\n",
       "  <tbody>\n",
       "    <tr>\n",
       "      <th>0</th>\n",
       "      <td>Mike</td>\n",
       "      <td>76</td>\n",
       "      <td>2013</td>\n",
       "      <td>distinction</td>\n",
       "    </tr>\n",
       "    <tr>\n",
       "      <th>1</th>\n",
       "      <td>John</td>\n",
       "      <td>52</td>\n",
       "      <td>2013</td>\n",
       "      <td>pass</td>\n",
       "    </tr>\n",
       "    <tr>\n",
       "      <th>2</th>\n",
       "      <td>Sara</td>\n",
       "      <td>91</td>\n",
       "      <td>2013</td>\n",
       "      <td>distinction</td>\n",
       "    </tr>\n",
       "  </tbody>\n",
       "</table>\n",
       "</div>"
      ],
      "text/plain": [
       "   name  score  year_of_study        grade\n",
       "0  Mike     76           2013  distinction\n",
       "1  John     52           2013         pass\n",
       "2  Sara     91           2013  distinction"
      ]
     },
     "execution_count": 36,
     "metadata": {},
     "output_type": "execute_result"
    }
   ],
   "source": [
    "def score_to_grade(row):\n",
    "    if row.score >= 70:\n",
    "        return \"distinction\"\n",
    "    if row.score >= 60:\n",
    "        return \"merit\"\n",
    "    if row.score >= 50:\n",
    "        return \"pass\"\n",
    "    return \"fail\"\n",
    "\n",
    "df[\"grade\"] = df.apply(score_to_grade, axis=1)\n",
    "df"
   ]
  },
  {
   "cell_type": "code",
   "execution_count": null,
   "id": "083a45b4",
   "metadata": {},
   "outputs": [],
   "source": []
  },
  {
   "cell_type": "code",
   "execution_count": 37,
   "id": "8f6d8e3b",
   "metadata": {},
   "outputs": [
    {
     "name": "stdout",
     "output_type": "stream",
     "text": [
      "0 jaymoosebna The Doordash app clearly tells them what they have to do when ordering alcohol. I'm assuming that is what it was.\n",
      "1 RainFallsWhenItMay definitely an underage person trying to get you to leave it at the door\n",
      "2 AdornedByCherice But you completed the order and didn’t complete the order and completed the order without actually completing the order. 😂😂😂😂😂😂\n",
      "3 Ok_Knowledge_5997 Same happened to me except after I completed the order I was told I needed to dispose of it ![img](emote|t5_3h9bt|10685)\n",
      "4 Xentherical Almost guaranteed they were underage to buy alcohol. You handled it well\n",
      "5 ILive2Drum You handled it well, OP. That was a real pathetic attempt to bully you. \n",
      "\n",
      "And now I’m going to go on a small tangent: why don’t customers fuckin realize that they ONLY PAY FOR WHAT WE CHARGE THEM FOR?!!! What the fuck?! You didn’t fucking fraud them because they never got charged for something you didn’t give them. I have had this argument MULTIPLE times during shopping orders, one time in particular about this woman who WOULD NOT understand she only pays for what I pay for with her money, if it’s less, guess fuckin what? YOU. PAY. LESS.\n",
      "\n",
      "“You completed the order and I still got charged wah wah wah it’s fraud wah” bitch I NEVER COMPLETED THE ORDER BECAUSE YOU DIDN’T DO YA JOB TO WHERE I COULD COMPLETE IT MAKING IT INCOMPLETE NOT COMPLETE! What were you supposed to do? Break the time and space continuum until they decided to do their part? Shits getting completed with or without you.\n",
      "6 Nikovash They already lit like a christmas tree… BET\n",
      "7 Plant_Based_Zak Just got a small bottle vodka delivery request. Accepted. About $9-10 for 3 miles. Seemed great. Go to make delivery and realize there are over 10 apt buildings in the complex, A,B,C, etc… and all of them have the same apt numbers!!! 101,102,103,201,202,203 etc…. And of course order only has apt # no building letter. \n",
      "Called the customer to ask for the building letter, no answer. Text. No answer. 5 minute timer is near ending, called support, let them know what was going on, timer ends and I am instructed to “dispose” of order. Got it no problem. Full pay also. Thanks smart customer that doesn’t know how to put your complete address or answer your phone when expecting alcohol lol.\n",
      "8 Truorganics Shoulda replied “I’m done replying now as the liquor is starting to take control. I AM THE LIQUOR!\n",
      "9 Famous_Actuary_7851 Yes op you handed it will. You did what you were supposed to do. \n",
      "\n",
      "I got a balloon order from Party City that was ordered from Arizona. I'm in Missouri. I called support and they canceled the order and I got halfpay. But then I had to return the balloons back to the store. I've never had to return anything like that unless it's alcohol.\n",
      "10 jarofgoodness That's why I don't take alcohol orders. They expect me to leave it at the door but I have to check their ID. Or they are drunk and passed out on the couch so can't come to the door to show me  their ID. I have to take the booze back to the store and all of that costs me gas I can't afford to waste and my time in which I could have been on another delivery where I would actually get paid.\n"
     ]
    }
   ],
   "source": [
    "for n, comment in enumerate(submission.comments.list()):\n",
    "    print(n, comment.author.name, comment.body)\n",
    "    if n == 10:\n",
    "        break"
   ]
  },
  {
   "cell_type": "code",
   "execution_count": 38,
   "id": "62a58a13",
   "metadata": {},
   "outputs": [
    {
     "name": "stdout",
     "output_type": "stream",
     "text": [
      "0 jaymoosebna The Doordash app clearly tells them what they have to do when ordering alcohol. I'm assuming that is what it was. 21\n",
      "1 RainFallsWhenItMay definitely an underage person trying to get you to leave it at the door 14\n",
      "2 AdornedByCherice But you completed the order and didn’t complete the order and completed the order without actually completing the order. 😂😂😂😂😂😂 20\n",
      "3 Ok_Knowledge_5997 Same happened to me except after I completed the order I was told I needed to dispose of it ![img](emote|t5_3h9bt|10685) 20\n",
      "4 Xentherical Almost guaranteed they were underage to buy alcohol. You handled it well 12\n",
      "5 ILive2Drum You handled it well, OP. That was a real pathetic attempt to bully you. \n",
      "\n",
      "And now I’m going to go on a small tangent: why don’t customers fuckin realize that they ONLY PAY FOR WHAT WE CHARGE THEM FOR?!!! What the fuck?! You didn’t fucking fraud them because they never got charged for something you didn’t give them. I have had this argument MULTIPLE times during shopping orders, one time in particular about this woman who WOULD NOT understand she only pays for what I pay for with her money, if it’s less, guess fuckin what? YOU. PAY. LESS.\n",
      "\n",
      "“You completed the order and I still got charged wah wah wah it’s fraud wah” bitch I NEVER COMPLETED THE ORDER BECAUSE YOU DIDN’T DO YA JOB TO WHERE I COULD COMPLETE IT MAKING IT INCOMPLETE NOT COMPLETE! What were you supposed to do? Break the time and space continuum until they decided to do their part? Shits getting completed with or without you. 163\n",
      "6 Nikovash They already lit like a christmas tree… BET 8\n",
      "7 Plant_Based_Zak Just got a small bottle vodka delivery request. Accepted. About $9-10 for 3 miles. Seemed great. Go to make delivery and realize there are over 10 apt buildings in the complex, A,B,C, etc… and all of them have the same apt numbers!!! 101,102,103,201,202,203 etc…. And of course order only has apt # no building letter. \n",
      "Called the customer to ask for the building letter, no answer. Text. No answer. 5 minute timer is near ending, called support, let them know what was going on, timer ends and I am instructed to “dispose” of order. Got it no problem. Full pay also. Thanks smart customer that doesn’t know how to put your complete address or answer your phone when expecting alcohol lol. 121\n",
      "8 Truorganics Shoulda replied “I’m done replying now as the liquor is starting to take control. I AM THE LIQUOR! 18\n",
      "9 Famous_Actuary_7851 Yes op you handed it will. You did what you were supposed to do. \n",
      "\n",
      "I got a balloon order from Party City that was ordered from Arizona. I'm in Missouri. I called support and they canceled the order and I got halfpay. But then I had to return the balloons back to the store. I've never had to return anything like that unless it's alcohol. 65\n",
      "10 jarofgoodness That's why I don't take alcohol orders. They expect me to leave it at the door but I have to check their ID. Or they are drunk and passed out on the couch so can't come to the door to show me  their ID. I have to take the booze back to the store and all of that costs me gas I can't afford to waste and my time in which I could have been on another delivery where I would actually get paid. 84\n"
     ]
    }
   ],
   "source": [
    "for n, comment in enumerate(submission.comments.list()):\n",
    "    print(n, comment.author.name, comment.body, len(comment.body.split()))\n",
    "    if n == 10:\n",
    "        break"
   ]
  },
  {
   "cell_type": "code",
   "execution_count": 44,
   "id": "31e98a47",
   "metadata": {},
   "outputs": [
    {
     "data": {
      "text/html": [
       "<div>\n",
       "<style scoped>\n",
       "    .dataframe tbody tr th:only-of-type {\n",
       "        vertical-align: middle;\n",
       "    }\n",
       "\n",
       "    .dataframe tbody tr th {\n",
       "        vertical-align: top;\n",
       "    }\n",
       "\n",
       "    .dataframe thead th {\n",
       "        text-align: right;\n",
       "    }\n",
       "</style>\n",
       "<table border=\"1\" class=\"dataframe\">\n",
       "  <thead>\n",
       "    <tr style=\"text-align: right;\">\n",
       "      <th></th>\n",
       "      <th>author</th>\n",
       "      <th>comment</th>\n",
       "      <th>word count</th>\n",
       "    </tr>\n",
       "  </thead>\n",
       "  <tbody>\n",
       "    <tr>\n",
       "      <th>0</th>\n",
       "      <td>jaymoosebna</td>\n",
       "      <td>The Doordash app clearly tells them what they ...</td>\n",
       "      <td>21</td>\n",
       "    </tr>\n",
       "    <tr>\n",
       "      <th>1</th>\n",
       "      <td>RainFallsWhenItMay</td>\n",
       "      <td>definitely an underage person trying to get yo...</td>\n",
       "      <td>14</td>\n",
       "    </tr>\n",
       "    <tr>\n",
       "      <th>2</th>\n",
       "      <td>AdornedByCherice</td>\n",
       "      <td>But you completed the order and didn’t complet...</td>\n",
       "      <td>20</td>\n",
       "    </tr>\n",
       "    <tr>\n",
       "      <th>3</th>\n",
       "      <td>Ok_Knowledge_5997</td>\n",
       "      <td>Same happened to me except after I completed t...</td>\n",
       "      <td>20</td>\n",
       "    </tr>\n",
       "    <tr>\n",
       "      <th>4</th>\n",
       "      <td>Xentherical</td>\n",
       "      <td>Almost guaranteed they were underage to buy al...</td>\n",
       "      <td>12</td>\n",
       "    </tr>\n",
       "    <tr>\n",
       "      <th>5</th>\n",
       "      <td>ILive2Drum</td>\n",
       "      <td>You handled it well, OP. That was a real pathe...</td>\n",
       "      <td>163</td>\n",
       "    </tr>\n",
       "    <tr>\n",
       "      <th>6</th>\n",
       "      <td>Nikovash</td>\n",
       "      <td>They already lit like a christmas tree… BET</td>\n",
       "      <td>8</td>\n",
       "    </tr>\n",
       "    <tr>\n",
       "      <th>7</th>\n",
       "      <td>Plant_Based_Zak</td>\n",
       "      <td>Just got a small bottle vodka delivery request...</td>\n",
       "      <td>121</td>\n",
       "    </tr>\n",
       "    <tr>\n",
       "      <th>8</th>\n",
       "      <td>Truorganics</td>\n",
       "      <td>Shoulda replied “I’m done replying now as the ...</td>\n",
       "      <td>18</td>\n",
       "    </tr>\n",
       "    <tr>\n",
       "      <th>9</th>\n",
       "      <td>Famous_Actuary_7851</td>\n",
       "      <td>Yes op you handed it will. You did what you we...</td>\n",
       "      <td>65</td>\n",
       "    </tr>\n",
       "    <tr>\n",
       "      <th>10</th>\n",
       "      <td>jarofgoodness</td>\n",
       "      <td>That's why I don't take alcohol orders. They e...</td>\n",
       "      <td>84</td>\n",
       "    </tr>\n",
       "  </tbody>\n",
       "</table>\n",
       "</div>"
      ],
      "text/plain": [
       "                 author                                            comment  \\\n",
       "0           jaymoosebna  The Doordash app clearly tells them what they ...   \n",
       "1    RainFallsWhenItMay  definitely an underage person trying to get yo...   \n",
       "2      AdornedByCherice  But you completed the order and didn’t complet...   \n",
       "3     Ok_Knowledge_5997  Same happened to me except after I completed t...   \n",
       "4           Xentherical  Almost guaranteed they were underage to buy al...   \n",
       "5            ILive2Drum  You handled it well, OP. That was a real pathe...   \n",
       "6              Nikovash        They already lit like a christmas tree… BET   \n",
       "7       Plant_Based_Zak  Just got a small bottle vodka delivery request...   \n",
       "8           Truorganics  Shoulda replied “I’m done replying now as the ...   \n",
       "9   Famous_Actuary_7851  Yes op you handed it will. You did what you we...   \n",
       "10        jarofgoodness  That's why I don't take alcohol orders. They e...   \n",
       "\n",
       "    word count  \n",
       "0           21  \n",
       "1           14  \n",
       "2           20  \n",
       "3           20  \n",
       "4           12  \n",
       "5          163  \n",
       "6            8  \n",
       "7          121  \n",
       "8           18  \n",
       "9           65  \n",
       "10          84  "
      ]
     },
     "execution_count": 44,
     "metadata": {},
     "output_type": "execute_result"
    }
   ],
   "source": [
    "rows_list = list()\n",
    "\n",
    "for n, comment in enumerate(submission.comments.list()):\n",
    "    temp_row = dict()\n",
    "    temp_row[\"author\"] = comment.author.name\n",
    "    temp_row[\"comment\"] = comment.body\n",
    "    temp_row[\"word count\"] = len(comment.body.split())\n",
    "    rows_list.append(temp_row)    \n",
    "\n",
    "    if n == 10:\n",
    "        break\n",
    "comments = pd.DataFrame(rows_list)\n",
    "comments"
   ]
  },
  {
   "cell_type": "code",
   "execution_count": 48,
   "id": "28c7fe0f",
   "metadata": {},
   "outputs": [
    {
     "data": {
      "text/html": [
       "<div>\n",
       "<style scoped>\n",
       "    .dataframe tbody tr th:only-of-type {\n",
       "        vertical-align: middle;\n",
       "    }\n",
       "\n",
       "    .dataframe tbody tr th {\n",
       "        vertical-align: top;\n",
       "    }\n",
       "\n",
       "    .dataframe thead th {\n",
       "        text-align: right;\n",
       "    }\n",
       "</style>\n",
       "<table border=\"1\" class=\"dataframe\">\n",
       "  <thead>\n",
       "    <tr style=\"text-align: right;\">\n",
       "      <th></th>\n",
       "      <th>author</th>\n",
       "      <th>comment</th>\n",
       "      <th>word count</th>\n",
       "    </tr>\n",
       "  </thead>\n",
       "  <tbody>\n",
       "    <tr>\n",
       "      <th>0</th>\n",
       "      <td>jaymoosebna</td>\n",
       "      <td>The Doordash app clearly tells them what they ...</td>\n",
       "      <td>21</td>\n",
       "    </tr>\n",
       "    <tr>\n",
       "      <th>1</th>\n",
       "      <td>InternationalPay8288</td>\n",
       "      <td>You handled it really well though; concise and...</td>\n",
       "      <td>9</td>\n",
       "    </tr>\n",
       "    <tr>\n",
       "      <th>2</th>\n",
       "      <td>grizzyber</td>\n",
       "      <td>seriously, dd makes it pretty obvious about th...</td>\n",
       "      <td>16</td>\n",
       "    </tr>\n",
       "    <tr>\n",
       "      <th>3</th>\n",
       "      <td>col3man17</td>\n",
       "      <td>Probably underage?</td>\n",
       "      <td>2</td>\n",
       "    </tr>\n",
       "    <tr>\n",
       "      <th>4</th>\n",
       "      <td>Asha108</td>\n",
       "      <td>Thought you’d leave the order because they 100...</td>\n",
       "      <td>13</td>\n",
       "    </tr>\n",
       "    <tr>\n",
       "      <th>5</th>\n",
       "      <td>J_IV24</td>\n",
       "      <td>How the hell did you, knowing a door dash orde...</td>\n",
       "      <td>48</td>\n",
       "    </tr>\n",
       "    <tr>\n",
       "      <th>6</th>\n",
       "      <td>MaxtinFreeman</td>\n",
       "      <td>So does Uber and spark.  I can only assume the...</td>\n",
       "      <td>27</td>\n",
       "    </tr>\n",
       "    <tr>\n",
       "      <th>7</th>\n",
       "      <td>RainFallsWhenItMay</td>\n",
       "      <td>definitely an underage person trying to get yo...</td>\n",
       "      <td>14</td>\n",
       "    </tr>\n",
       "    <tr>\n",
       "      <th>8</th>\n",
       "      <td>TheOnlyMertt</td>\n",
       "      <td>For sure. That…or someone who barely knows how...</td>\n",
       "      <td>18</td>\n",
       "    </tr>\n",
       "    <tr>\n",
       "      <th>9</th>\n",
       "      <td>Cool_Reputation_694</td>\n",
       "      <td>Either under 21 or over 75</td>\n",
       "      <td>6</td>\n",
       "    </tr>\n",
       "    <tr>\n",
       "      <th>10</th>\n",
       "      <td>SexualPie</td>\n",
       "      <td>the amount of high, or drunk people out ther w...</td>\n",
       "      <td>32</td>\n",
       "    </tr>\n",
       "    <tr>\n",
       "      <th>11</th>\n",
       "      <td>trevno</td>\n",
       "      <td>There’s tons of those people around. Cell phon...</td>\n",
       "      <td>12</td>\n",
       "    </tr>\n",
       "    <tr>\n",
       "      <th>12</th>\n",
       "      <td>The_perfect_Melody</td>\n",
       "      <td>What happens if you leave it at the door anywa...</td>\n",
       "      <td>24</td>\n",
       "    </tr>\n",
       "    <tr>\n",
       "      <th>13</th>\n",
       "      <td>SorryDuplex</td>\n",
       "      <td>You literally can’t leave it without an Id sca...</td>\n",
       "      <td>30</td>\n",
       "    </tr>\n",
       "    <tr>\n",
       "      <th>14</th>\n",
       "      <td>VoltaicSketchyTeapot</td>\n",
       "      <td>It's no different than not carding someone who...</td>\n",
       "      <td>41</td>\n",
       "    </tr>\n",
       "    <tr>\n",
       "      <th>15</th>\n",
       "      <td>Nathund</td>\n",
       "      <td>https://www.reddit.com/r/doordash/comments/jgd...</td>\n",
       "      <td>11</td>\n",
       "    </tr>\n",
       "    <tr>\n",
       "      <th>16</th>\n",
       "      <td>trmpsux</td>\n",
       "      <td>Lots of times it’s undercover cops doing sting...</td>\n",
       "      <td>16</td>\n",
       "    </tr>\n",
       "    <tr>\n",
       "      <th>17</th>\n",
       "      <td>notseanlinton</td>\n",
       "      <td>How many times exactly</td>\n",
       "      <td>4</td>\n",
       "    </tr>\n",
       "    <tr>\n",
       "      <th>18</th>\n",
       "      <td>MurseWoods</td>\n",
       "      <td>The gentleman clearly said “lots”. /s</td>\n",
       "      <td>6</td>\n",
       "    </tr>\n",
       "    <tr>\n",
       "      <th>19</th>\n",
       "      <td>TheTrevorist</td>\n",
       "      <td>I mean I wouldn't put it past them.\\n\\nhttps:/...</td>\n",
       "      <td>9</td>\n",
       "    </tr>\n",
       "    <tr>\n",
       "      <th>20</th>\n",
       "      <td>AdornedByCherice</td>\n",
       "      <td>But you completed the order and didn’t complet...</td>\n",
       "      <td>20</td>\n",
       "    </tr>\n",
       "    <tr>\n",
       "      <th>21</th>\n",
       "      <td>obli__</td>\n",
       "      <td>that's fraud!</td>\n",
       "      <td>2</td>\n",
       "    </tr>\n",
       "    <tr>\n",
       "      <th>22</th>\n",
       "      <td>ILive2Drum</td>\n",
       "      <td>That’s bath salts abuse more like it.\\n\\n![gif...</td>\n",
       "      <td>8</td>\n",
       "    </tr>\n",
       "    <tr>\n",
       "      <th>23</th>\n",
       "      <td>Aggressive-Teach-106</td>\n",
       "      <td>Not fraud. The order was picked up and would b...</td>\n",
       "      <td>22</td>\n",
       "    </tr>\n",
       "    <tr>\n",
       "      <th>24</th>\n",
       "      <td>Odd-Understanding-67</td>\n",
       "      <td>He completed the order without completing the ...</td>\n",
       "      <td>8</td>\n",
       "    </tr>\n",
       "    <tr>\n",
       "      <th>25</th>\n",
       "      <td>trevno</td>\n",
       "      <td>Who’s on first?</td>\n",
       "      <td>3</td>\n",
       "    </tr>\n",
       "    <tr>\n",
       "      <th>26</th>\n",
       "      <td>Ok_Knowledge_5997</td>\n",
       "      <td>Same happened to me except after I completed t...</td>\n",
       "      <td>20</td>\n",
       "    </tr>\n",
       "    <tr>\n",
       "      <th>27</th>\n",
       "      <td>grizzyber</td>\n",
       "      <td>i did, my first time ever lol. the signature h...</td>\n",
       "      <td>13</td>\n",
       "    </tr>\n",
       "    <tr>\n",
       "      <th>28</th>\n",
       "      <td>liljkrs</td>\n",
       "      <td>Lol don’t dispose of it, keep it or give to so...</td>\n",
       "      <td>11</td>\n",
       "    </tr>\n",
       "    <tr>\n",
       "      <th>29</th>\n",
       "      <td>Xentherical</td>\n",
       "      <td>Almost guaranteed they were underage to buy al...</td>\n",
       "      <td>12</td>\n",
       "    </tr>\n",
       "    <tr>\n",
       "      <th>30</th>\n",
       "      <td>ILive2Drum</td>\n",
       "      <td>You handled it well, OP. That was a real pathe...</td>\n",
       "      <td>163</td>\n",
       "    </tr>\n",
       "    <tr>\n",
       "      <th>31</th>\n",
       "      <td>grizzyber</td>\n",
       "      <td>trust me thats exactly what i was feeling lmao</td>\n",
       "      <td>9</td>\n",
       "    </tr>\n",
       "    <tr>\n",
       "      <th>32</th>\n",
       "      <td>ILive2Drum</td>\n",
       "      <td>Oh I bet, friend. \\n\\nMy mantra of communicati...</td>\n",
       "      <td>153</td>\n",
       "    </tr>\n",
       "    <tr>\n",
       "      <th>33</th>\n",
       "      <td>DrakenGewehr</td>\n",
       "      <td>“You playin chess not checkers when they’re no...</td>\n",
       "      <td>19</td>\n",
       "    </tr>\n",
       "    <tr>\n",
       "      <th>34</th>\n",
       "      <td>Silver-Enthusiasm925</td>\n",
       "      <td>You know the saying don't f with anyone who me...</td>\n",
       "      <td>15</td>\n",
       "    </tr>\n",
       "    <tr>\n",
       "      <th>35</th>\n",
       "      <td>marqoose</td>\n",
       "      <td>Could handle it better by not texting them at ...</td>\n",
       "      <td>19</td>\n",
       "    </tr>\n",
       "    <tr>\n",
       "      <th>36</th>\n",
       "      <td>Nikovash</td>\n",
       "      <td>They already lit like a christmas tree… BET</td>\n",
       "      <td>8</td>\n",
       "    </tr>\n",
       "    <tr>\n",
       "      <th>37</th>\n",
       "      <td>Plant_Based_Zak</td>\n",
       "      <td>Just got a small bottle vodka delivery request...</td>\n",
       "      <td>121</td>\n",
       "    </tr>\n",
       "    <tr>\n",
       "      <th>38</th>\n",
       "      <td>Plant_Based_Zak</td>\n",
       "      <td>I got a message from customer right after I en...</td>\n",
       "      <td>27</td>\n",
       "    </tr>\n",
       "    <tr>\n",
       "      <th>39</th>\n",
       "      <td>Truorganics</td>\n",
       "      <td>Shoulda replied “I’m done replying now as the ...</td>\n",
       "      <td>18</td>\n",
       "    </tr>\n",
       "    <tr>\n",
       "      <th>40</th>\n",
       "      <td>Famous_Actuary_7851</td>\n",
       "      <td>Yes op you handed it will. You did what you we...</td>\n",
       "      <td>65</td>\n",
       "    </tr>\n",
       "    <tr>\n",
       "      <th>41</th>\n",
       "      <td>jarofgoodness</td>\n",
       "      <td>That's why I don't take alcohol orders. They e...</td>\n",
       "      <td>84</td>\n",
       "    </tr>\n",
       "    <tr>\n",
       "      <th>42</th>\n",
       "      <td>n3k0___</td>\n",
       "      <td>The amount of people that order delivery and j...</td>\n",
       "      <td>26</td>\n",
       "    </tr>\n",
       "    <tr>\n",
       "      <th>43</th>\n",
       "      <td>TheyCallMeWilderness</td>\n",
       "      <td>Sounds like some kids trying to get booze, or ...</td>\n",
       "      <td>21</td>\n",
       "    </tr>\n",
       "    <tr>\n",
       "      <th>44</th>\n",
       "      <td>RedRosa1917</td>\n",
       "      <td>some people are just low iq, honestly</td>\n",
       "      <td>7</td>\n",
       "    </tr>\n",
       "    <tr>\n",
       "      <th>45</th>\n",
       "      <td>Wide_Ad_9383</td>\n",
       "      <td>Not really, maybe an underage customer begs fo...</td>\n",
       "      <td>19</td>\n",
       "    </tr>\n",
       "    <tr>\n",
       "      <th>46</th>\n",
       "      <td>RedRosa1917</td>\n",
       "      <td>that's my point, lol</td>\n",
       "      <td>4</td>\n",
       "    </tr>\n",
       "    <tr>\n",
       "      <th>47</th>\n",
       "      <td>big_truck_douche</td>\n",
       "      <td>*Check to see if the recipient is hammered*\\n\\...</td>\n",
       "      <td>11</td>\n",
       "    </tr>\n",
       "    <tr>\n",
       "      <th>48</th>\n",
       "      <td>Independent_Row_Goes</td>\n",
       "      <td>I hope when you do stuff like this and don’t a...</td>\n",
       "      <td>39</td>\n",
       "    </tr>\n",
       "    <tr>\n",
       "      <th>49</th>\n",
       "      <td>supremegpc</td>\n",
       "      <td>You responded?</td>\n",
       "      <td>2</td>\n",
       "    </tr>\n",
       "    <tr>\n",
       "      <th>50</th>\n",
       "      <td>Wide_Ad_9383</td>\n",
       "      <td>You got to tap on the photo to look in full sc...</td>\n",
       "      <td>21</td>\n",
       "    </tr>\n",
       "    <tr>\n",
       "      <th>51</th>\n",
       "      <td>DancingUntilMidnight</td>\n",
       "      <td>That was OP's first mistake.</td>\n",
       "      <td>5</td>\n",
       "    </tr>\n",
       "    <tr>\n",
       "      <th>52</th>\n",
       "      <td>BALATUBA</td>\n",
       "      <td>Dumb custies at it again!</td>\n",
       "      <td>5</td>\n",
       "    </tr>\n",
       "    <tr>\n",
       "      <th>53</th>\n",
       "      <td>DancingUntilMidnight</td>\n",
       "      <td>Why are you like this? Your responsibility as ...</td>\n",
       "      <td>64</td>\n",
       "    </tr>\n",
       "    <tr>\n",
       "      <th>54</th>\n",
       "      <td>DoPoGrub</td>\n",
       "      <td>As independent drivers, it's our choice whethe...</td>\n",
       "      <td>21</td>\n",
       "    </tr>\n",
       "    <tr>\n",
       "      <th>55</th>\n",
       "      <td>Wide_Ad_9383</td>\n",
       "      <td>You can't complete the order  when he or she c...</td>\n",
       "      <td>29</td>\n",
       "    </tr>\n",
       "    <tr>\n",
       "      <th>56</th>\n",
       "      <td>rydan</td>\n",
       "      <td>That phone number isn't theirs.</td>\n",
       "      <td>5</td>\n",
       "    </tr>\n",
       "    <tr>\n",
       "      <th>57</th>\n",
       "      <td>Knightp93</td>\n",
       "      <td>Lmao the prick took 20 minutes to answer. 🤣 I ...</td>\n",
       "      <td>17</td>\n",
       "    </tr>\n",
       "    <tr>\n",
       "      <th>58</th>\n",
       "      <td>hopeful_tatertot</td>\n",
       "      <td>Pretty sure they expect you to wait all day fo...</td>\n",
       "      <td>11</td>\n",
       "    </tr>\n",
       "    <tr>\n",
       "      <th>59</th>\n",
       "      <td>Nightshark2021</td>\n",
       "      <td>Lets see 705 to 735 then 7min earlier makes it...</td>\n",
       "      <td>42</td>\n",
       "    </tr>\n",
       "  </tbody>\n",
       "</table>\n",
       "</div>"
      ],
      "text/plain": [
       "                  author                                            comment  \\\n",
       "0            jaymoosebna  The Doordash app clearly tells them what they ...   \n",
       "1   InternationalPay8288  You handled it really well though; concise and...   \n",
       "2              grizzyber  seriously, dd makes it pretty obvious about th...   \n",
       "3              col3man17                                 Probably underage?   \n",
       "4                Asha108  Thought you’d leave the order because they 100...   \n",
       "5                 J_IV24  How the hell did you, knowing a door dash orde...   \n",
       "6          MaxtinFreeman  So does Uber and spark.  I can only assume the...   \n",
       "7     RainFallsWhenItMay  definitely an underage person trying to get yo...   \n",
       "8           TheOnlyMertt  For sure. That…or someone who barely knows how...   \n",
       "9    Cool_Reputation_694                         Either under 21 or over 75   \n",
       "10             SexualPie  the amount of high, or drunk people out ther w...   \n",
       "11                trevno  There’s tons of those people around. Cell phon...   \n",
       "12    The_perfect_Melody  What happens if you leave it at the door anywa...   \n",
       "13           SorryDuplex  You literally can’t leave it without an Id sca...   \n",
       "14  VoltaicSketchyTeapot  It's no different than not carding someone who...   \n",
       "15               Nathund  https://www.reddit.com/r/doordash/comments/jgd...   \n",
       "16               trmpsux  Lots of times it’s undercover cops doing sting...   \n",
       "17         notseanlinton                             How many times exactly   \n",
       "18            MurseWoods              The gentleman clearly said “lots”. /s   \n",
       "19          TheTrevorist  I mean I wouldn't put it past them.\\n\\nhttps:/...   \n",
       "20      AdornedByCherice  But you completed the order and didn’t complet...   \n",
       "21                obli__                                      that's fraud!   \n",
       "22            ILive2Drum  That’s bath salts abuse more like it.\\n\\n![gif...   \n",
       "23  Aggressive-Teach-106  Not fraud. The order was picked up and would b...   \n",
       "24  Odd-Understanding-67  He completed the order without completing the ...   \n",
       "25                trevno                                    Who’s on first?   \n",
       "26     Ok_Knowledge_5997  Same happened to me except after I completed t...   \n",
       "27             grizzyber  i did, my first time ever lol. the signature h...   \n",
       "28               liljkrs  Lol don’t dispose of it, keep it or give to so...   \n",
       "29           Xentherical  Almost guaranteed they were underage to buy al...   \n",
       "30            ILive2Drum  You handled it well, OP. That was a real pathe...   \n",
       "31             grizzyber     trust me thats exactly what i was feeling lmao   \n",
       "32            ILive2Drum  Oh I bet, friend. \\n\\nMy mantra of communicati...   \n",
       "33          DrakenGewehr  “You playin chess not checkers when they’re no...   \n",
       "34  Silver-Enthusiasm925  You know the saying don't f with anyone who me...   \n",
       "35              marqoose  Could handle it better by not texting them at ...   \n",
       "36              Nikovash        They already lit like a christmas tree… BET   \n",
       "37       Plant_Based_Zak  Just got a small bottle vodka delivery request...   \n",
       "38       Plant_Based_Zak  I got a message from customer right after I en...   \n",
       "39           Truorganics  Shoulda replied “I’m done replying now as the ...   \n",
       "40   Famous_Actuary_7851  Yes op you handed it will. You did what you we...   \n",
       "41         jarofgoodness  That's why I don't take alcohol orders. They e...   \n",
       "42               n3k0___  The amount of people that order delivery and j...   \n",
       "43  TheyCallMeWilderness  Sounds like some kids trying to get booze, or ...   \n",
       "44           RedRosa1917              some people are just low iq, honestly   \n",
       "45          Wide_Ad_9383  Not really, maybe an underage customer begs fo...   \n",
       "46           RedRosa1917                               that's my point, lol   \n",
       "47      big_truck_douche  *Check to see if the recipient is hammered*\\n\\...   \n",
       "48  Independent_Row_Goes  I hope when you do stuff like this and don’t a...   \n",
       "49            supremegpc                                     You responded?   \n",
       "50          Wide_Ad_9383  You got to tap on the photo to look in full sc...   \n",
       "51  DancingUntilMidnight                       That was OP's first mistake.   \n",
       "52              BALATUBA                          Dumb custies at it again!   \n",
       "53  DancingUntilMidnight  Why are you like this? Your responsibility as ...   \n",
       "54              DoPoGrub  As independent drivers, it's our choice whethe...   \n",
       "55          Wide_Ad_9383  You can't complete the order  when he or she c...   \n",
       "56                 rydan                    That phone number isn't theirs.   \n",
       "57             Knightp93  Lmao the prick took 20 minutes to answer. 🤣 I ...   \n",
       "58      hopeful_tatertot  Pretty sure they expect you to wait all day fo...   \n",
       "59        Nightshark2021  Lets see 705 to 735 then 7min earlier makes it...   \n",
       "\n",
       "    word count  \n",
       "0           21  \n",
       "1            9  \n",
       "2           16  \n",
       "3            2  \n",
       "4           13  \n",
       "5           48  \n",
       "6           27  \n",
       "7           14  \n",
       "8           18  \n",
       "9            6  \n",
       "10          32  \n",
       "11          12  \n",
       "12          24  \n",
       "13          30  \n",
       "14          41  \n",
       "15          11  \n",
       "16          16  \n",
       "17           4  \n",
       "18           6  \n",
       "19           9  \n",
       "20          20  \n",
       "21           2  \n",
       "22           8  \n",
       "23          22  \n",
       "24           8  \n",
       "25           3  \n",
       "26          20  \n",
       "27          13  \n",
       "28          11  \n",
       "29          12  \n",
       "30         163  \n",
       "31           9  \n",
       "32         153  \n",
       "33          19  \n",
       "34          15  \n",
       "35          19  \n",
       "36           8  \n",
       "37         121  \n",
       "38          27  \n",
       "39          18  \n",
       "40          65  \n",
       "41          84  \n",
       "42          26  \n",
       "43          21  \n",
       "44           7  \n",
       "45          19  \n",
       "46           4  \n",
       "47          11  \n",
       "48          39  \n",
       "49           2  \n",
       "50          21  \n",
       "51           5  \n",
       "52           5  \n",
       "53          64  \n",
       "54          21  \n",
       "55          29  \n",
       "56           5  \n",
       "57          17  \n",
       "58          11  \n",
       "59          42  "
      ]
     },
     "execution_count": 48,
     "metadata": {},
     "output_type": "execute_result"
    }
   ],
   "source": [
    "import pandas as pd\n",
    "\n",
    "def process_comments(comment, rows_list):\n",
    "    if comment.author:\n",
    "        temp_row = dict()\n",
    "        temp_row[\"author\"] = comment.author.name\n",
    "        temp_row[\"comment\"] = comment.body\n",
    "        temp_row[\"word count\"] = len(comment.body.split())\n",
    "        rows_list.append(temp_row)\n",
    "\n",
    "    for reply in comment.replies:\n",
    "        process_comments(reply, rows_list)\n",
    "\n",
    "rows_list = []\n",
    "for top_level_comment in submission.comments:\n",
    "    process_comments(top_level_comment, rows_list)\n",
    "\n",
    "comments = pd.DataFrame(rows_list)\n",
    "comments\n"
   ]
  },
  {
   "cell_type": "code",
   "execution_count": null,
   "id": "3e6efd90",
   "metadata": {},
   "outputs": [],
   "source": []
  }
 ],
 "metadata": {
  "kernelspec": {
   "display_name": "Python 3 (ipykernel)",
   "language": "python",
   "name": "python3"
  },
  "language_info": {
   "codemirror_mode": {
    "name": "ipython",
    "version": 3
   },
   "file_extension": ".py",
   "mimetype": "text/x-python",
   "name": "python",
   "nbconvert_exporter": "python",
   "pygments_lexer": "ipython3",
   "version": "3.9.12"
  }
 },
 "nbformat": 4,
 "nbformat_minor": 5
}
