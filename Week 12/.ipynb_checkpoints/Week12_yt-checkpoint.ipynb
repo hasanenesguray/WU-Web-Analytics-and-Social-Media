{
 "cells": [
  {
   "cell_type": "code",
   "execution_count": null,
   "metadata": {
    "colab": {
     "base_uri": "https://localhost:8080/"
    },
    "id": "nkqEZrsWtZIn",
    "outputId": "0c672182-0679-4985-ee43-ec396a3c5563"
   },
   "outputs": [
    {
     "name": "stdout",
     "output_type": "stream",
     "text": [
      "Requirement already satisfied: google-api-python-client in /usr/local/lib/python3.10/dist-packages (2.84.0)\n",
      "Requirement already satisfied: httplib2<1dev,>=0.15.0 in /usr/local/lib/python3.10/dist-packages (from google-api-python-client) (0.21.0)\n",
      "Requirement already satisfied: google-auth<3.0.0dev,>=1.19.0 in /usr/local/lib/python3.10/dist-packages (from google-api-python-client) (2.17.3)\n",
      "Requirement already satisfied: google-auth-httplib2>=0.1.0 in /usr/local/lib/python3.10/dist-packages (from google-api-python-client) (0.1.0)\n",
      "Requirement already satisfied: google-api-core!=2.0.*,!=2.1.*,!=2.2.*,!=2.3.0,<3.0.0dev,>=1.31.5 in /usr/local/lib/python3.10/dist-packages (from google-api-python-client) (2.11.1)\n",
      "Requirement already satisfied: uritemplate<5,>=3.0.1 in /usr/local/lib/python3.10/dist-packages (from google-api-python-client) (4.1.1)\n",
      "Requirement already satisfied: googleapis-common-protos<2.0.dev0,>=1.56.2 in /usr/local/lib/python3.10/dist-packages (from google-api-core!=2.0.*,!=2.1.*,!=2.2.*,!=2.3.0,<3.0.0dev,>=1.31.5->google-api-python-client) (1.59.1)\n",
      "Requirement already satisfied: protobuf!=3.20.0,!=3.20.1,!=4.21.0,!=4.21.1,!=4.21.2,!=4.21.3,!=4.21.4,!=4.21.5,<5.0.0.dev0,>=3.19.5 in /usr/local/lib/python3.10/dist-packages (from google-api-core!=2.0.*,!=2.1.*,!=2.2.*,!=2.3.0,<3.0.0dev,>=1.31.5->google-api-python-client) (3.20.3)\n",
      "Requirement already satisfied: requests<3.0.0.dev0,>=2.18.0 in /usr/local/lib/python3.10/dist-packages (from google-api-core!=2.0.*,!=2.1.*,!=2.2.*,!=2.3.0,<3.0.0dev,>=1.31.5->google-api-python-client) (2.27.1)\n",
      "Requirement already satisfied: cachetools<6.0,>=2.0.0 in /usr/local/lib/python3.10/dist-packages (from google-auth<3.0.0dev,>=1.19.0->google-api-python-client) (5.3.1)\n",
      "Requirement already satisfied: pyasn1-modules>=0.2.1 in /usr/local/lib/python3.10/dist-packages (from google-auth<3.0.0dev,>=1.19.0->google-api-python-client) (0.3.0)\n",
      "Requirement already satisfied: six>=1.9.0 in /usr/local/lib/python3.10/dist-packages (from google-auth<3.0.0dev,>=1.19.0->google-api-python-client) (1.16.0)\n",
      "Requirement already satisfied: rsa<5,>=3.1.4 in /usr/local/lib/python3.10/dist-packages (from google-auth<3.0.0dev,>=1.19.0->google-api-python-client) (4.9)\n",
      "Requirement already satisfied: pyparsing!=3.0.0,!=3.0.1,!=3.0.2,!=3.0.3,<4,>=2.4.2 in /usr/local/lib/python3.10/dist-packages (from httplib2<1dev,>=0.15.0->google-api-python-client) (3.1.0)\n",
      "Requirement already satisfied: pyasn1<0.6.0,>=0.4.6 in /usr/local/lib/python3.10/dist-packages (from pyasn1-modules>=0.2.1->google-auth<3.0.0dev,>=1.19.0->google-api-python-client) (0.5.0)\n",
      "Requirement already satisfied: urllib3<1.27,>=1.21.1 in /usr/local/lib/python3.10/dist-packages (from requests<3.0.0.dev0,>=2.18.0->google-api-core!=2.0.*,!=2.1.*,!=2.2.*,!=2.3.0,<3.0.0dev,>=1.31.5->google-api-python-client) (1.26.16)\n",
      "Requirement already satisfied: certifi>=2017.4.17 in /usr/local/lib/python3.10/dist-packages (from requests<3.0.0.dev0,>=2.18.0->google-api-core!=2.0.*,!=2.1.*,!=2.2.*,!=2.3.0,<3.0.0dev,>=1.31.5->google-api-python-client) (2023.5.7)\n",
      "Requirement already satisfied: charset-normalizer~=2.0.0 in /usr/local/lib/python3.10/dist-packages (from requests<3.0.0.dev0,>=2.18.0->google-api-core!=2.0.*,!=2.1.*,!=2.2.*,!=2.3.0,<3.0.0dev,>=1.31.5->google-api-python-client) (2.0.12)\n",
      "Requirement already satisfied: idna<4,>=2.5 in /usr/local/lib/python3.10/dist-packages (from requests<3.0.0.dev0,>=2.18.0->google-api-core!=2.0.*,!=2.1.*,!=2.2.*,!=2.3.0,<3.0.0dev,>=1.31.5->google-api-python-client) (3.4)\n"
     ]
    }
   ],
   "source": [
    "!pip install google-api-python-client\n",
    "# youtube data api v3"
   ]
  },
  {
   "cell_type": "code",
   "execution_count": null,
   "metadata": {
    "id": "4w-624KztcMv"
   },
   "outputs": [],
   "source": [
    "import googleapiclient.discovery as discovery"
   ]
  },
  {
   "cell_type": "code",
   "execution_count": null,
   "metadata": {
    "id": "jVQwGce3tnED"
   },
   "outputs": [],
   "source": [
    "api_key = \"\"\n",
    "video_id = \"f-9uNz4X5SE\"\n",
    "\n",
    "yt = discovery.build('youtube', 'v3', developerKey=api_key)\n",
    "\n",
    "def commentThreads():\n",
    "  response = yt.commentThreads().list(\n",
    "    part=\"snippet\",\n",
    "    videoId=video_id,\n",
    "    textFormat=\"plainText\",\n",
    "    maxResults=100).execute()\n",
    "  return response\n",
    "\n",
    "def commentsForThread(threadId):\n",
    "  response = yt.comments().list(\n",
    "    part=\"snippet\",\n",
    "    parentId=threadId,\n",
    "    textFormat=\"plainText\",\n",
    "    maxResults=100).execute()\n",
    "  return response\n"
   ]
  },
  {
   "cell_type": "code",
   "execution_count": null,
   "metadata": {
    "colab": {
     "base_uri": "https://localhost:8080/"
    },
    "id": "Wu-nJzUi2odP",
    "outputId": "6e313963-f0d5-4142-e5b4-865525d59b17"
   },
   "outputs": [
    {
     "name": "stdout",
     "output_type": "stream",
     "text": [
      "{'kind': 'youtube#commentThread', 'etag': 'EeHyhItNs7U_bEQxtYVVBZylpb8', 'id': 'Ugw3NOTn8LzfPNaNTT94AaABAg', 'snippet': {'videoId': 'f-9uNz4X5SE', 'topLevelComment': {'kind': 'youtube#comment', 'etag': 'AwVZaaV_qgaPitqmTKl_kSxW5PU', 'id': 'Ugw3NOTn8LzfPNaNTT94AaABAg', 'snippet': {'videoId': 'f-9uNz4X5SE', 'textDisplay': 'Appeared on the film as an unrecoverable low altitude right wing stall.  High angle turn at too low an altitude.   RIP to the flight crew.', 'textOriginal': 'Appeared on the film as an unrecoverable low altitude right wing stall.  High angle turn at too low an altitude.   RIP to the flight crew.', 'authorDisplayName': 'K9er', 'authorProfileImageUrl': 'https://yt3.ggpht.com/ytc/AOPolaQ8Yt8jvtgMqhDXMsNaDk1LQUMzlxXgeNgo2Q=s48-c-k-c0x00ffffff-no-rj', 'authorChannelUrl': 'http://www.youtube.com/channel/UCdG-h3xosL67UfSR7MAdvpw', 'authorChannelId': {'value': 'UCdG-h3xosL67UfSR7MAdvpw'}, 'canRate': True, 'viewerRating': 'none', 'likeCount': 0, 'publishedAt': '2023-07-26T06:32:32Z', 'updatedAt': '2023-07-26T06:32:32Z'}}, 'canReply': True, 'totalReplyCount': 2, 'isPublic': True}}\n",
      "2\n",
      "dict_keys(['kind', 'etag', 'id', 'snippet'])\n",
      "dict_keys(['kind', 'etag', 'id', 'snippet'])\n"
     ]
    }
   ],
   "source": [
    "response = commentThreads()\n",
    "for row in response[\"items\"]:\n",
    "  #print(row[\"snippet\"][\"topLevelComment\"][\"snippet\"][\"textDisplay\"])\n",
    "  if row[\"snippet\"][\"totalReplyCount\"] > 0:\n",
    "    print(row)\n",
    "    print(row[\"snippet\"][\"totalReplyCount\"])\n",
    "    for child in commentsForThread(row[\"id\"])[\"items\"]:\n",
    "      print(child.keys())\n",
    "\n",
    "    break\n",
    "  #break\n",
    "\n",
    "# a series of keys"
   ]
  },
  {
   "cell_type": "markdown",
   "metadata": {
    "id": "CVm6RMKt3nIO"
   },
   "source": []
  },
  {
   "cell_type": "code",
   "execution_count": null,
   "metadata": {
    "colab": {
     "base_uri": "https://localhost:8080/"
    },
    "id": "bT8G_R-3ujPR",
    "outputId": "59470bbe-30fd-407a-a82b-09572446822c"
   },
   "outputs": [
    {
     "name": "stdout",
     "output_type": "stream",
     "text": [
      "{'kind': 'youtube#commentThread', 'etag': 'SoPdiowiZdG9ux5bsgqIrpBj_QU', 'id': 'Ugyscj4Fs_lBBHeeuVN4AaABAg', 'snippet': {'videoId': 'f-9uNz4X5SE', 'topLevelComment': {'kind': 'youtube#comment', 'etag': 'uLBTsHbH6MMe9_Xyl53MoPPCGAE', 'id': 'Ugyscj4Fs_lBBHeeuVN4AaABAg', 'snippet': {'videoId': 'f-9uNz4X5SE', 'textDisplay': 'Geçmiş olsun Yunanistan 🇬🇷🇹🇷', 'textOriginal': 'Geçmiş olsun Yunanistan 🇬🇷🇹🇷', 'authorDisplayName': 'Rıdvan Gevrek', 'authorProfileImageUrl': 'https://yt3.ggpht.com/Qiga56NT1ERny0w-1nDjmBUNMk5TrUBU2yKPPo3sy0VcpE2bHrZ9pDdDT7QrNlkRohk_5JI3eQc=s48-c-k-c0x00ffffff-no-rj', 'authorChannelUrl': 'http://www.youtube.com/channel/UCY1QR9F_plqhCt7yZVkDBxg', 'authorChannelId': {'value': 'UCY1QR9F_plqhCt7yZVkDBxg'}, 'canRate': True, 'viewerRating': 'none', 'likeCount': 1, 'publishedAt': '2023-07-25T20:45:17Z', 'updatedAt': '2023-07-25T20:45:17Z'}}, 'canReply': True, 'totalReplyCount': 0, 'isPublic': True}}\n"
     ]
    }
   ],
   "source": [
    "response = commentThreads()\n",
    "\n",
    "for item in response[\"items\"]:\n",
    "  print(item)\n",
    "  break"
   ]
  },
  {
   "cell_type": "code",
   "execution_count": null,
   "metadata": {
    "id": "LJJFbDbMxU1_"
   },
   "outputs": [],
   "source": []
  },
  {
   "cell_type": "code",
   "execution_count": null,
   "metadata": {
    "id": "kC1oMvagvqnH"
   },
   "outputs": [],
   "source": []
  },
  {
   "cell_type": "code",
   "execution_count": null,
   "metadata": {
    "id": "OLgqJVDsvqvT"
   },
   "outputs": [],
   "source": []
  },
  {
   "cell_type": "code",
   "execution_count": null,
   "metadata": {
    "id": "MfMkKacxvqyl"
   },
   "outputs": [],
   "source": []
  },
  {
   "cell_type": "code",
   "execution_count": null,
   "metadata": {
    "id": "i57mkjZ_vq0Q"
   },
   "outputs": [],
   "source": []
  },
  {
   "cell_type": "code",
   "execution_count": null,
   "metadata": {
    "id": "JTjL5Elmvq2N"
   },
   "outputs": [],
   "source": [
    "print(item[\"snippet\"]['topLevelComment'][\"snippet\"][\"textDisplay\"])"
   ]
  },
  {
   "cell_type": "code",
   "execution_count": null,
   "metadata": {
    "id": "GU1BTVkozKgI"
   },
   "outputs": [],
   "source": [
    "  if item[\"snippet\"][\"totalReplyCount\"] > 0:\n",
    "    print(item[\"id\"], item, item[\"snippet\"][\"totalReplyCount\"])"
   ]
  },
  {
   "cell_type": "code",
   "execution_count": null,
   "metadata": {
    "id": "ASd9OxsFzKiV"
   },
   "outputs": [],
   "source": []
  }
 ],
 "metadata": {
  "colab": {
   "provenance": []
  },
  "kernelspec": {
   "display_name": "Python 3 (ipykernel)",
   "language": "python",
   "name": "python3"
  },
  "language_info": {
   "codemirror_mode": {
    "name": "ipython",
    "version": 3
   },
   "file_extension": ".py",
   "mimetype": "text/x-python",
   "name": "python",
   "nbconvert_exporter": "python",
   "pygments_lexer": "ipython3",
   "version": "3.9.12"
  }
 },
 "nbformat": 4,
 "nbformat_minor": 1
}
